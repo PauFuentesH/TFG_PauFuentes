{
 "cells": [
  {
   "cell_type": "code",
   "execution_count": 1,
   "id": "4cadb786",
   "metadata": {},
   "outputs": [],
   "source": [
    "import pandas as pd\n",
    "import matplotlib.pyplot as plt\n",
    "import numpy as np\n",
    "import math\n",
    "from funcions import quadrant_angle, quadrant_vector, canvi_quadrant, find_last_string_with_text, dist_lim_normalitat"
   ]
  },
  {
   "cell_type": "code",
   "execution_count": 2,
   "id": "5e95f3f9",
   "metadata": {},
   "outputs": [
    {
     "ename": "LookupError",
     "evalue": "unknown encoding: ansi",
     "output_type": "error",
     "traceback": [
      "\u001b[0;31m---------------------------------------------------------------------------\u001b[0m",
      "\u001b[0;31mLookupError\u001b[0m                               Traceback (most recent call last)",
      "\u001b[0;32m/tmp/ipykernel_14413/1922535224.py\u001b[0m in \u001b[0;36m<module>\u001b[0;34m\u001b[0m\n\u001b[1;32m     12\u001b[0m \u001b[0;34m\u001b[0m\u001b[0m\n\u001b[1;32m     13\u001b[0m \u001b[0;31m#reader = pd.read_csv(\"../../dades/dades posturograf/2022071305_sve_FJ52F.txt\", delimiter=\"\\t\", encoding=\"ansi\", chunksize=2)\u001b[0m\u001b[0;34m\u001b[0m\u001b[0;34m\u001b[0m\u001b[0m\n\u001b[0;32m---> 14\u001b[0;31m \u001b[0mreader\u001b[0m \u001b[0;34m=\u001b[0m \u001b[0mpd\u001b[0m\u001b[0;34m.\u001b[0m\u001b[0mread_csv\u001b[0m\u001b[0;34m(\u001b[0m\u001b[0;34m\"C:/Users/Usuario/OneDrive/Escritorio/Universitat/TFG/Mataro_postu_IMU/2023031504_sve_VM54F.txt\"\u001b[0m\u001b[0;34m,\u001b[0m \u001b[0mdelimiter\u001b[0m\u001b[0;34m=\u001b[0m\u001b[0;34m\"\\t\"\u001b[0m\u001b[0;34m,\u001b[0m \u001b[0mencoding\u001b[0m\u001b[0;34m=\u001b[0m\u001b[0;34m\"ansi\"\u001b[0m\u001b[0;34m,\u001b[0m \u001b[0mskiprows\u001b[0m\u001b[0;34m=\u001b[0m\u001b[0;36m1\u001b[0m\u001b[0;34m,\u001b[0m \u001b[0mchunksize\u001b[0m\u001b[0;34m=\u001b[0m\u001b[0;36m1\u001b[0m\u001b[0;34m,\u001b[0m \u001b[0mheader\u001b[0m\u001b[0;34m=\u001b[0m\u001b[0;32mNone\u001b[0m\u001b[0;34m)\u001b[0m\u001b[0;34m\u001b[0m\u001b[0;34m\u001b[0m\u001b[0m\n\u001b[0m\u001b[1;32m     15\u001b[0m \u001b[0;34m\u001b[0m\u001b[0m\n\u001b[1;32m     16\u001b[0m \u001b[0mdf_dades\u001b[0m \u001b[0;34m=\u001b[0m \u001b[0mreader\u001b[0m\u001b[0;34m.\u001b[0m\u001b[0mget_chunk\u001b[0m\u001b[0;34m(\u001b[0m\u001b[0;34m)\u001b[0m\u001b[0;34m\u001b[0m\u001b[0;34m\u001b[0m\u001b[0m\n",
      "\u001b[0;32m~/anaconda3/lib/python3.9/site-packages/pandas/util/_decorators.py\u001b[0m in \u001b[0;36mwrapper\u001b[0;34m(*args, **kwargs)\u001b[0m\n\u001b[1;32m    309\u001b[0m                     \u001b[0mstacklevel\u001b[0m\u001b[0;34m=\u001b[0m\u001b[0mstacklevel\u001b[0m\u001b[0;34m,\u001b[0m\u001b[0;34m\u001b[0m\u001b[0;34m\u001b[0m\u001b[0m\n\u001b[1;32m    310\u001b[0m                 )\n\u001b[0;32m--> 311\u001b[0;31m             \u001b[0;32mreturn\u001b[0m \u001b[0mfunc\u001b[0m\u001b[0;34m(\u001b[0m\u001b[0;34m*\u001b[0m\u001b[0margs\u001b[0m\u001b[0;34m,\u001b[0m \u001b[0;34m**\u001b[0m\u001b[0mkwargs\u001b[0m\u001b[0;34m)\u001b[0m\u001b[0;34m\u001b[0m\u001b[0;34m\u001b[0m\u001b[0m\n\u001b[0m\u001b[1;32m    312\u001b[0m \u001b[0;34m\u001b[0m\u001b[0m\n\u001b[1;32m    313\u001b[0m         \u001b[0;32mreturn\u001b[0m \u001b[0mwrapper\u001b[0m\u001b[0;34m\u001b[0m\u001b[0;34m\u001b[0m\u001b[0m\n",
      "\u001b[0;32m~/anaconda3/lib/python3.9/site-packages/pandas/io/parsers/readers.py\u001b[0m in \u001b[0;36mread_csv\u001b[0;34m(filepath_or_buffer, sep, delimiter, header, names, index_col, usecols, squeeze, prefix, mangle_dupe_cols, dtype, engine, converters, true_values, false_values, skipinitialspace, skiprows, skipfooter, nrows, na_values, keep_default_na, na_filter, verbose, skip_blank_lines, parse_dates, infer_datetime_format, keep_date_col, date_parser, dayfirst, cache_dates, iterator, chunksize, compression, thousands, decimal, lineterminator, quotechar, quoting, doublequote, escapechar, comment, encoding, encoding_errors, dialect, error_bad_lines, warn_bad_lines, on_bad_lines, delim_whitespace, low_memory, memory_map, float_precision, storage_options)\u001b[0m\n\u001b[1;32m    676\u001b[0m     \u001b[0mkwds\u001b[0m\u001b[0;34m.\u001b[0m\u001b[0mupdate\u001b[0m\u001b[0;34m(\u001b[0m\u001b[0mkwds_defaults\u001b[0m\u001b[0;34m)\u001b[0m\u001b[0;34m\u001b[0m\u001b[0;34m\u001b[0m\u001b[0m\n\u001b[1;32m    677\u001b[0m \u001b[0;34m\u001b[0m\u001b[0m\n\u001b[0;32m--> 678\u001b[0;31m     \u001b[0;32mreturn\u001b[0m \u001b[0m_read\u001b[0m\u001b[0;34m(\u001b[0m\u001b[0mfilepath_or_buffer\u001b[0m\u001b[0;34m,\u001b[0m \u001b[0mkwds\u001b[0m\u001b[0;34m)\u001b[0m\u001b[0;34m\u001b[0m\u001b[0;34m\u001b[0m\u001b[0m\n\u001b[0m\u001b[1;32m    679\u001b[0m \u001b[0;34m\u001b[0m\u001b[0m\n\u001b[1;32m    680\u001b[0m \u001b[0;34m\u001b[0m\u001b[0m\n",
      "\u001b[0;32m~/anaconda3/lib/python3.9/site-packages/pandas/io/parsers/readers.py\u001b[0m in \u001b[0;36m_read\u001b[0;34m(filepath_or_buffer, kwds)\u001b[0m\n\u001b[1;32m    573\u001b[0m \u001b[0;34m\u001b[0m\u001b[0m\n\u001b[1;32m    574\u001b[0m     \u001b[0;31m# Create the parser.\u001b[0m\u001b[0;34m\u001b[0m\u001b[0;34m\u001b[0m\u001b[0m\n\u001b[0;32m--> 575\u001b[0;31m     \u001b[0mparser\u001b[0m \u001b[0;34m=\u001b[0m \u001b[0mTextFileReader\u001b[0m\u001b[0;34m(\u001b[0m\u001b[0mfilepath_or_buffer\u001b[0m\u001b[0;34m,\u001b[0m \u001b[0;34m**\u001b[0m\u001b[0mkwds\u001b[0m\u001b[0;34m)\u001b[0m\u001b[0;34m\u001b[0m\u001b[0;34m\u001b[0m\u001b[0m\n\u001b[0m\u001b[1;32m    576\u001b[0m \u001b[0;34m\u001b[0m\u001b[0m\n\u001b[1;32m    577\u001b[0m     \u001b[0;32mif\u001b[0m \u001b[0mchunksize\u001b[0m \u001b[0;32mor\u001b[0m \u001b[0miterator\u001b[0m\u001b[0;34m:\u001b[0m\u001b[0;34m\u001b[0m\u001b[0;34m\u001b[0m\u001b[0m\n",
      "\u001b[0;32m~/anaconda3/lib/python3.9/site-packages/pandas/io/parsers/readers.py\u001b[0m in \u001b[0;36m__init__\u001b[0;34m(self, f, engine, **kwds)\u001b[0m\n\u001b[1;32m    930\u001b[0m \u001b[0;34m\u001b[0m\u001b[0m\n\u001b[1;32m    931\u001b[0m         \u001b[0mself\u001b[0m\u001b[0;34m.\u001b[0m\u001b[0mhandles\u001b[0m\u001b[0;34m:\u001b[0m \u001b[0mIOHandles\u001b[0m \u001b[0;34m|\u001b[0m \u001b[0;32mNone\u001b[0m \u001b[0;34m=\u001b[0m \u001b[0;32mNone\u001b[0m\u001b[0;34m\u001b[0m\u001b[0;34m\u001b[0m\u001b[0m\n\u001b[0;32m--> 932\u001b[0;31m         \u001b[0mself\u001b[0m\u001b[0;34m.\u001b[0m\u001b[0m_engine\u001b[0m \u001b[0;34m=\u001b[0m \u001b[0mself\u001b[0m\u001b[0;34m.\u001b[0m\u001b[0m_make_engine\u001b[0m\u001b[0;34m(\u001b[0m\u001b[0mf\u001b[0m\u001b[0;34m,\u001b[0m \u001b[0mself\u001b[0m\u001b[0;34m.\u001b[0m\u001b[0mengine\u001b[0m\u001b[0;34m)\u001b[0m\u001b[0;34m\u001b[0m\u001b[0;34m\u001b[0m\u001b[0m\n\u001b[0m\u001b[1;32m    933\u001b[0m \u001b[0;34m\u001b[0m\u001b[0m\n\u001b[1;32m    934\u001b[0m     \u001b[0;32mdef\u001b[0m \u001b[0mclose\u001b[0m\u001b[0;34m(\u001b[0m\u001b[0mself\u001b[0m\u001b[0;34m)\u001b[0m\u001b[0;34m:\u001b[0m\u001b[0;34m\u001b[0m\u001b[0;34m\u001b[0m\u001b[0m\n",
      "\u001b[0;32m~/anaconda3/lib/python3.9/site-packages/pandas/io/parsers/readers.py\u001b[0m in \u001b[0;36m_make_engine\u001b[0;34m(self, f, engine)\u001b[0m\n\u001b[1;32m   1214\u001b[0m             \u001b[0;31m# \"Union[str, PathLike[str], ReadCsvBuffer[bytes], ReadCsvBuffer[str]]\"\u001b[0m\u001b[0;34m\u001b[0m\u001b[0;34m\u001b[0m\u001b[0m\n\u001b[1;32m   1215\u001b[0m             \u001b[0;31m# , \"str\", \"bool\", \"Any\", \"Any\", \"Any\", \"Any\", \"Any\"\u001b[0m\u001b[0;34m\u001b[0m\u001b[0;34m\u001b[0m\u001b[0m\n\u001b[0;32m-> 1216\u001b[0;31m             self.handles = get_handle(  # type: ignore[call-overload]\n\u001b[0m\u001b[1;32m   1217\u001b[0m                 \u001b[0mf\u001b[0m\u001b[0;34m,\u001b[0m\u001b[0;34m\u001b[0m\u001b[0;34m\u001b[0m\u001b[0m\n\u001b[1;32m   1218\u001b[0m                 \u001b[0mmode\u001b[0m\u001b[0;34m,\u001b[0m\u001b[0;34m\u001b[0m\u001b[0;34m\u001b[0m\u001b[0m\n",
      "\u001b[0;32m~/anaconda3/lib/python3.9/site-packages/pandas/io/common.py\u001b[0m in \u001b[0;36mget_handle\u001b[0;34m(path_or_buf, mode, encoding, compression, memory_map, is_text, errors, storage_options)\u001b[0m\n\u001b[1;32m    660\u001b[0m \u001b[0;34m\u001b[0m\u001b[0m\n\u001b[1;32m    661\u001b[0m     \u001b[0;31m# validate encoding and errors\u001b[0m\u001b[0;34m\u001b[0m\u001b[0;34m\u001b[0m\u001b[0m\n\u001b[0;32m--> 662\u001b[0;31m     \u001b[0mcodecs\u001b[0m\u001b[0;34m.\u001b[0m\u001b[0mlookup\u001b[0m\u001b[0;34m(\u001b[0m\u001b[0mencoding\u001b[0m\u001b[0;34m)\u001b[0m\u001b[0;34m\u001b[0m\u001b[0;34m\u001b[0m\u001b[0m\n\u001b[0m\u001b[1;32m    663\u001b[0m     \u001b[0;32mif\u001b[0m \u001b[0misinstance\u001b[0m\u001b[0;34m(\u001b[0m\u001b[0merrors\u001b[0m\u001b[0;34m,\u001b[0m \u001b[0mstr\u001b[0m\u001b[0;34m)\u001b[0m\u001b[0;34m:\u001b[0m\u001b[0;34m\u001b[0m\u001b[0;34m\u001b[0m\u001b[0m\n\u001b[1;32m    664\u001b[0m         \u001b[0mcodecs\u001b[0m\u001b[0;34m.\u001b[0m\u001b[0mlookup_error\u001b[0m\u001b[0;34m(\u001b[0m\u001b[0merrors\u001b[0m\u001b[0;34m)\u001b[0m\u001b[0;34m\u001b[0m\u001b[0;34m\u001b[0m\u001b[0m\n",
      "\u001b[0;31mLookupError\u001b[0m: unknown encoding: ansi"
     ]
    }
   ],
   "source": [
    "if False:\n",
    "    reader = pd.read_csv(\"C:/Users/Usuario/OneDrive/Escritorio/Universitat/TFG/Mataro_postu_IMU/2023031504_sve_VM54F.txt\", delimiter=\"\\t\", encoding=\"ansi\", chunksize=1)\n",
    "    df_dades = reader.get_chunk()\n",
    "    print(df_dades)\n",
    "    print(df_dades.columns)\n",
    "\n",
    "    count=0\n",
    "    for i in df_dades.columns:\n",
    "        print(i, count)\n",
    "        count+=1\n",
    "\n",
    "\n",
    "#reader = pd.read_csv(\"../../dades/dades posturograf/2022071305_sve_FJ52F.txt\", delimiter=\"\\t\", encoding=\"ansi\", chunksize=2)\n",
    "reader = pd.read_csv(\"C:/Users/Usuario/OneDrive/Escritorio/Universitat/TFG/Mataro_postu_IMU/2023031504_sve_VM54F.txt\", delimiter=\"\\t\", encoding=\"ansi\", skiprows=1, chunksize=1, header=None)\n",
    "\n",
    "df_dades = reader.get_chunk()\n",
    "#print(df_dades)\n",
    "#print(df_dades.columns)\n",
    "#num_test = df_dades[['Nº_ROA','Nº_ROC','Nº_RGA','Nº_RGC']].values.tolist()\n",
    "\n",
    "#'Nº_test', 'Val_test',Rep_test', 'EstML_test', 'EstAP_test'\n",
    "roa = df_dades.iloc[:,16:21].values.tolist()\n",
    "roc = df_dades.iloc[:,21:26].values.tolist()\n",
    "rga = df_dades.iloc[:,26:31].values.tolist()\n",
    "rgc = df_dades.iloc[:,31:36].values.tolist()\n",
    "\n",
    "##SOM VIS VEST\n",
    "result = df_dades.iloc[:,53:56].values.tolist()\n",
    "\n",
    "print(roa)\n",
    "print(roc)\n",
    "print(rga)\n",
    "print(rgc)\n",
    "print(result)\n",
    "\n",
    "num_test = roa[0][0] + roc[0][0] + rga[0][0] + rgc[0][0]\n",
    "print(\"Total tests\")\n",
    "print(num_test)"
   ]
  },
  {
   "cell_type": "code",
   "execution_count": null,
   "id": "d15ee138",
   "metadata": {},
   "outputs": [],
   "source": [
    "reader = pd.read_csv(\"C:/Users/Usuario/OneDrive/Escritorio/Universitat/TFG/Mataro_postu_IMU/2023031504_sve_VM54F.txt\", delimiter=\"\\t\", encoding=\"cp1252\", skiprows=2, chunksize=num_test, index_col=False)\n",
    "df_resultats = reader.get_chunk()\n",
    "\n",
    "df_resultats\n"
   ]
  },
  {
   "cell_type": "code",
   "execution_count": null,
   "id": "9bde692a",
   "metadata": {},
   "outputs": [],
   "source": [
    "df_resultats['test'] = df_resultats['Prueba ROMBERG'] + df_resultats['Numero'].astype(str)\n",
    "df_resultats"
   ]
  },
  {
   "cell_type": "code",
   "execution_count": null,
   "id": "b9269e45",
   "metadata": {},
   "outputs": [],
   "source": [
    "reader = pd.read_csv(\"C:/Users/Usuario/OneDrive/Escritorio/Universitat/TFG/Mataro_postu_IMU/2023031504_sve_VM54F.txt\", delimiter=\"\\t\", encoding=\"ansi\",skiprows=(17+int(num_test)), chunksize=1200, index_col=False)\n",
    "df_dades_postu_XY = reader.get_chunk()\n",
    "df_dades_postu_XY"
   ]
  },
  {
   "cell_type": "code",
   "execution_count": null,
   "id": "6539babc",
   "metadata": {},
   "outputs": [],
   "source": [
    "df_dades_postu_FxFy  = pd.read_csv(\"C:/Users/Usuario/OneDrive/Escritorio/Universitat/TFG/Mataro_postu_IMU/2023031504_sve_VM54F.txt\", delimiter=\"\\t\", encoding=\"ansi\",skiprows=(17+int(num_test)+1+1200), index_col=False)\n",
    "df_dades_postu_FxFy"
   ]
  },
  {
   "cell_type": "markdown",
   "id": "4efd69c8",
   "metadata": {},
   "source": [
    "# Càlcul paràmetres posturògraf"
   ]
  },
  {
   "cell_type": "code",
   "execution_count": null,
   "id": "af6ae3cc",
   "metadata": {},
   "outputs": [],
   "source": [
    "params = {'Desplaç_total' : [], 'Angle_total' : [], 'Dispersio_ML' : [], 'Dispersio_AP' : [], 'Area_barrida' : []\n",
    "         , 'V_mitjana' : [], 'Desplaç_ML' : [], 'Desplaç_AP' : [], 'Fmax_ML' : [], 'Fmax_AP' : []} "
   ]
  },
  {
   "cell_type": "markdown",
   "id": "f59d5685",
   "metadata": {},
   "source": [
    "## Càlcul desplaçament total"
   ]
  },
  {
   "cell_type": "markdown",
   "id": "30b4635e",
   "metadata": {},
   "source": [
    "Càlcul del centre del núvol de punts(mitjana)."
   ]
  },
  {
   "cell_type": "code",
   "execution_count": null,
   "id": "2609ddca",
   "metadata": {},
   "outputs": [],
   "source": [
    "llista_test = df_resultats['test'].tolist()\n",
    "punts_X = {}\n",
    "punts_Y = {}\n",
    "\n",
    "for item in llista_test:\n",
    "    punts_X[item] = df_dades_postu_XY[item + \"_X\"].values.tolist()\n",
    "    punts_Y[item] = df_dades_postu_XY[item+\"_Y\"].values.tolist()\n",
    "    params['Desplaç_total'].append(np.sqrt((sum(punts_X[item])/len(punts_X[item]))**2 + (sum(punts_Y[item])/len(punts_Y[item]))**2))"
   ]
  },
  {
   "cell_type": "markdown",
   "id": "862e5147",
   "metadata": {},
   "source": [
    "## Càlcul Angle total"
   ]
  },
  {
   "cell_type": "markdown",
   "id": "a28b31ef",
   "metadata": {},
   "source": [
    "Calcular angle del vector del centre del núvol de punts, cambiar quadrant al que pertany."
   ]
  },
  {
   "cell_type": "code",
   "execution_count": null,
   "id": "7f8ec97d",
   "metadata": {},
   "outputs": [],
   "source": [
    "for item in llista_test:\n",
    "    vector_nuvp = [(sum(punts_X[item])/len(punts_X[item])),(sum(punts_Y[item])/len(punts_Y[item]))]\n",
    "    \n",
    "    quadrant_to = quadrant_vector(vector_nuvp)\n",
    "    angle = math.degrees(math.atan(vector_nuvp[1]/vector_nuvp[0]))\n",
    "    quadrant_from = quadrant_angle(angle)\n",
    "    \n",
    "    params['Angle_total'].append(canvi_quadrant(angle, quadrant_from, quadrant_to))"
   ]
  },
  {
   "cell_type": "markdown",
   "id": "55b8d53f",
   "metadata": {},
   "source": [
    "## Càlcul dispersió ML i AP"
   ]
  },
  {
   "cell_type": "markdown",
   "id": "ce00b701",
   "metadata": {},
   "source": [
    "Calcular la desviació estàndard dels punts en X i en Y per separat."
   ]
  },
  {
   "cell_type": "code",
   "execution_count": null,
   "id": "555fb8ff",
   "metadata": {},
   "outputs": [],
   "source": [
    "for item in llista_test:\n",
    "    centre_X = sum(punts_X[item])/(len(punts_X[item])-1)\n",
    "    centre_Y = sum(punts_Y[item])/(len(punts_Y[item])-1)\n",
    "    params['Dispersio_ML'].append(np.sqrt(sum([((x - centre_X) ** 2) for x in punts_X[item]]) / (len(punts_X[item])-1)))\n",
    "    params['Dispersio_AP'].append(np.sqrt(sum([((y - centre_Y) ** 2) for y in punts_Y[item]]) / (len(punts_Y[item])-1)))"
   ]
  },
  {
   "cell_type": "markdown",
   "id": "aabc9b2f",
   "metadata": {},
   "source": [
    "## Càlcul Àrea barrida"
   ]
  },
  {
   "cell_type": "markdown",
   "id": "4a134de2",
   "metadata": {},
   "source": [
    "Trobar valors propis de matriu de covariances de les dades."
   ]
  },
  {
   "cell_type": "code",
   "execution_count": null,
   "id": "023d2fca",
   "metadata": {},
   "outputs": [],
   "source": [
    "for item in llista_test:\n",
    "    points = np.vstack((punts_X[item], punts_Y[item])).T\n",
    "    dades_centrades = points - np.mean(points, axis=0)\n",
    "    covariance_matrix = np.cov(dades_centrades, rowvar=False)\n",
    "    eigenvalues, eigenvectors = np.linalg.eig(covariance_matrix)\n",
    "    params['Area_barrida'].append(np.sqrt(eigenvalues[0]*eigenvalues[1])*4)"
   ]
  },
  {
   "cell_type": "markdown",
   "id": "3f9336fa",
   "metadata": {},
   "source": [
    "## Càlcul velocitat mitjana"
   ]
  },
  {
   "cell_type": "markdown",
   "id": "89e517f5",
   "metadata": {},
   "source": [
    "Calcular la distància total recorreguda sumant la distància entre tots els punts consecutius, passar-ho a metres i dividir entre el temps de la prova."
   ]
  },
  {
   "cell_type": "code",
   "execution_count": null,
   "id": "58169c24",
   "metadata": {},
   "outputs": [],
   "source": [
    "for item in llista_test:\n",
    "    points = np.vstack((punts_X[item], punts_Y[item])).T\n",
    "    num_points = len(points)\n",
    "    total_dist = 0.0\n",
    "\n",
    "    for i in range(num_points - 1):\n",
    "        total_dist += np.linalg.norm(points[i+1] - points[i])\n",
    "            \n",
    "    params['V_mitjana'].append((total_dist/1000)/30)"
   ]
  },
  {
   "cell_type": "markdown",
   "id": "de932775",
   "metadata": {},
   "source": [
    "## Càlcul desplaçament ML i AP"
   ]
  },
  {
   "cell_type": "markdown",
   "id": "4f06aaf0",
   "metadata": {},
   "source": [
    "Distància entre el major i el menor punt en cada eix."
   ]
  },
  {
   "cell_type": "code",
   "execution_count": null,
   "id": "f830e4e3",
   "metadata": {},
   "outputs": [],
   "source": [
    "for item in llista_test:\n",
    "    params['Desplaç_ML'].append(np.max(punts_X[item]) - np.min(punts_X[item]))\n",
    "    params['Desplaç_AP'].append(np.max(punts_Y[item]) - np.min(punts_Y[item]))"
   ]
  },
  {
   "cell_type": "markdown",
   "id": "81d6620f",
   "metadata": {},
   "source": [
    "## Càlcul força màxima"
   ]
  },
  {
   "cell_type": "markdown",
   "id": "9a48e53e",
   "metadata": {},
   "source": [
    "Diferència entre el punt de més i de menys força en cada eix."
   ]
  },
  {
   "cell_type": "code",
   "execution_count": null,
   "id": "147fd4f3",
   "metadata": {},
   "outputs": [],
   "source": [
    "for item in llista_test:\n",
    "    forca_X = df_dades_postu_FxFy[item + \"_Fx\"].values.tolist()\n",
    "    forca_Y = df_dades_postu_FxFy[item+\"_Fy\"].values.tolist()\n",
    "    params['Fmax_ML'].append(max(list(map(float,forca_X[0:1200]))) - min(list(map(float,forca_X[0:1200]))))\n",
    "    params['Fmax_AP'].append(max(list(map(float,forca_X[0:1200]))) - min(list(map(float,forca_X[0:1200]))))"
   ]
  },
  {
   "cell_type": "code",
   "execution_count": null,
   "id": "80dbc871",
   "metadata": {},
   "outputs": [],
   "source": [
    "from sklearn.metrics import r2_score"
   ]
  },
  {
   "cell_type": "code",
   "execution_count": null,
   "id": "a08eabe7",
   "metadata": {},
   "outputs": [],
   "source": [
    "# Calcular l'R²\n",
    "r2 = []\n",
    "\n",
    "r2.append(r2_score(df_resultats['Desplaz.Total(mm)'], params['Desplaç_total']))\n",
    "r2.append(r2_score(df_resultats['Angulo Desplaz.(º)'], params['Angle_total']))\n",
    "r2.append(r2_score(df_resultats['Dispers ML (mm)'], params['Dispersio_ML']))\n",
    "r2.append(r2_score(df_resultats['Dispers AP (mm)'], params['Dispersio_AP']))\n",
    "r2.append(r2_score(df_resultats['Area barrida (mm2)'], params['Area_barrida']))\n",
    "r2.append(r2_score(df_resultats['Velocidad media (m/s)'], params['V_mitjana']))\n",
    "r2.append(r2_score(df_resultats['Desplazam.ML (mm)'], params['Desplaç_ML']))\n",
    "r2.append(r2_score(df_resultats['Desplazam.AP(mm)'], params['Desplaç_AP']))\n",
    "r2.append(r2_score(df_resultats['Fuerza Max ML (N)'], params['Fmax_ML']))\n",
    "r2.append(r2_score(df_resultats['Fuerza Max AP (N)'], params['Fmax_AP']))"
   ]
  },
  {
   "cell_type": "markdown",
   "id": "8444cadb",
   "metadata": {},
   "source": [
    "## Valoració final"
   ]
  },
  {
   "cell_type": "code",
   "execution_count": null,
   "id": "2494aadd",
   "metadata": {},
   "outputs": [],
   "source": [
    "def find_last_string_with_text(text, llista):\n",
    "    for string in llista[::-1]:\n",
    "        if text in string:\n",
    "            return string\n",
    "    return None"
   ]
  },
  {
   "cell_type": "code",
   "execution_count": null,
   "id": "ad63deae",
   "metadata": {},
   "outputs": [],
   "source": [
    "import os\n",
    "\n",
    "norm_ROAx = []\n",
    "norm_ROAy = []\n",
    "\n",
    "norm_ROCx = []\n",
    "norm_ROCy = []\n",
    "\n",
    "norm_RGAx = []\n",
    "norm_RGAy = []\n",
    "\n",
    "norm_RGCx = []\n",
    "norm_RGCy = []\n",
    "\n",
    "not_norm_ROAx = []\n",
    "not_norm_ROAy = []\n",
    "\n",
    "not_norm_ROCx = []\n",
    "not_norm_ROCy = []\n",
    "\n",
    "not_norm_RGAx = []\n",
    "not_norm_RGAy = []\n",
    "\n",
    "not_norm_RGCx = []\n",
    "not_norm_RGCy = []\n",
    "\n",
    "edats = []\n",
    "\n",
    "for filename in os.listdir(\"C:/Users/Usuario/OneDrive/Escritorio/Universitat/TFG/Mataro_posturograf\"):\n",
    "    if filename.endswith('.txt'):\n",
    "        reader = pd.read_csv(\"C:/Users/Usuario/OneDrive/Escritorio/Universitat/TFG/Mataro_posturograf/\" + filename, delimiter=\"\\t\", encoding=\"ansi\", skiprows=1, chunksize=1, header=None)\n",
    "        df_dades = reader.get_chunk()\n",
    "        if df_dades[[9]].values[0][0] > 67:\n",
    "            edats.append(df_dades[[9]].values[0][0])\n",
    "            num_test = df_dades[[16]].values[0] + df_dades[[21]].values[0] + df_dades[[26]].values[0] + df_dades[[31]].values[0]\n",
    "            df_dades_postu_FxFy = pd.read_csv(\"C:/Users/Usuario/OneDrive/Escritorio/Universitat/TFG/Mataro_posturograf/\" + filename, delimiter=\"\\t\", encoding=\"ansi\",skiprows=(17+int(num_test)+1+1200), index_col=False)\n",
    "            if isinstance(df_dades[[17]].values[0][0], float) and df_dades[[17]].values[0][0] > 90:\n",
    "                valorsy = list(map(float, df_dades_postu_FxFy[find_last_string_with_text(\"ROA\", df_dades_postu_FxFy.columns.tolist()[:-1])].values.tolist()[0:1200]))\n",
    "                valorsx = list(map(float, df_dades_postu_FxFy[find_last_string_with_text(\"ROA\", df_dades_postu_FxFy.columns.tolist()[:-1])[0:-1] + \"x\"].values.tolist()[0:1200]))\n",
    "                norm_ROAy.append(max(valorsy)-min(valorsy))\n",
    "                norm_ROAx.append(max(valorsx)-min(valorsx))\n",
    "            else:\n",
    "                if 'ROA' in '\\t'.join(df_dades_postu_FxFy.columns.tolist()[:-1]):                \n",
    "                    valorsy = list(map(float, df_dades_postu_FxFy[find_last_string_with_text(\"ROA\", df_dades_postu_FxFy.columns.tolist()[:-1])].values.tolist()[0:1200]))\n",
    "                    valorsx = list(map(float, df_dades_postu_FxFy[find_last_string_with_text(\"ROA\", df_dades_postu_FxFy.columns.tolist()[:-1])[0:-1] + \"x\"].values.tolist()[0:1200]))\n",
    "                    not_norm_ROAy.append(max(valorsy)-min(valorsy))\n",
    "                    not_norm_ROAx.append(max(valorsx)-min(valorsx))\n",
    "                    \n",
    "            if isinstance(df_dades[[22]].values[0][0], float) and df_dades[[22]].values[0][0] > 90:\n",
    "                valorsy = list(map(float, df_dades_postu_FxFy[find_last_string_with_text(\"ROC\", df_dades_postu_FxFy.columns.tolist()[:-1])].values.tolist()[0:1200]))                            \n",
    "                valorsx = list(map(float, df_dades_postu_FxFy[find_last_string_with_text(\"ROC\", df_dades_postu_FxFy.columns.tolist()[:-1])[0:-1] + \"x\"].values.tolist()[0:1200]))            \n",
    "                norm_ROCy.append(max(valorsy)-min(valorsy))\n",
    "                norm_ROCx.append(max(valorsx)-min(valorsx))\n",
    "            else:\n",
    "                if 'ROC' in '\\t'.join(df_dades_postu_FxFy.columns.tolist()[:-1]):                \n",
    "                    valorsy = list(map(float, df_dades_postu_FxFy[find_last_string_with_text(\"ROC\", df_dades_postu_FxFy.columns.tolist()[:-1])].values.tolist()[0:1200]))                            \n",
    "                    valorsx = list(map(float, df_dades_postu_FxFy[find_last_string_with_text(\"ROC\", df_dades_postu_FxFy.columns.tolist()[:-1])[0:-1] + \"x\"].values.tolist()[0:1200]))            \n",
    "                    not_norm_ROCy.append(max(valorsy)-min(valorsy))\n",
    "                    not_norm_ROCx.append(max(valorsx)-min(valorsx))     \n",
    "                    \n",
    "            if isinstance(df_dades[[27]].values[0][0], float) and df_dades[[27]].values[0][0] > 90:\n",
    "                valorsy = list(map(float, df_dades_postu_FxFy[find_last_string_with_text(\"RGA\", df_dades_postu_FxFy.columns.tolist()[:-1])].values.tolist()[0:1200]))\n",
    "                valorsx = list(map(float, df_dades_postu_FxFy[find_last_string_with_text(\"RGA\", df_dades_postu_FxFy.columns.tolist()[:-1])[0:-1] + \"x\"].values.tolist()[0:1200]))\n",
    "                norm_RGAy.append(max(valorsy)-min(valorsy))\n",
    "                norm_RGAx.append(max(valorsx)-min(valorsx))\n",
    "            else:\n",
    "                if 'RGA' in '\\t'.join(df_dades_postu_FxFy.columns.tolist()[:-1]):\n",
    "                    valorsy = list(map(float, df_dades_postu_FxFy[find_last_string_with_text(\"RGA\", df_dades_postu_FxFy.columns.tolist()[:-1])].values.tolist()[0:1200]))\n",
    "                    valorsx = list(map(float, df_dades_postu_FxFy[find_last_string_with_text(\"RGA\", df_dades_postu_FxFy.columns.tolist()[:-1])[0:-1] + \"x\"].values.tolist()[0:1200]))\n",
    "                    not_norm_RGAy.append(max(valorsy)-min(valorsy))\n",
    "                    not_norm_RGAx.append(max(valorsx)-min(valorsx))      \n",
    "                    \n",
    "            if isinstance(df_dades[[32]].values[0][0], float) and df_dades[[32]].values[0][0] > 80:\n",
    "                valorsy = list(map(float, df_dades_postu_FxFy[find_last_string_with_text(\"RGC\", df_dades_postu_FxFy.columns.tolist()[:-1])].values.tolist()[0:1200]))\n",
    "                valorsx = list(map(float, df_dades_postu_FxFy[find_last_string_with_text(\"RGC\", df_dades_postu_FxFy.columns.tolist()[:-1])[0:-1] + \"x\"].values.tolist()[0:1200]))\n",
    "                norm_RGCy.append(max(valorsy)-min(valorsy))\n",
    "                norm_RGCx.append(max(valorsx)-min(valorsx))\n",
    "            else:\n",
    "                if 'RGC' in '\\t'.join(df_dades_postu_FxFy.columns.tolist()[:-1]):\n",
    "                    valorsy = list(map(float, df_dades_postu_FxFy[find_last_string_with_text(\"RGC\", df_dades_postu_FxFy.columns.tolist()[:-1])].values.tolist()[0:1200]))\n",
    "                    valorsx = list(map(float, df_dades_postu_FxFy[find_last_string_with_text(\"RGC\", df_dades_postu_FxFy.columns.tolist()[:-1])[0:-1] + \"x\"].values.tolist()[0:1200]))\n",
    "                    not_norm_RGCy.append(max(valorsy)-min(valorsy))\n",
    "                    not_norm_RGCx.append(max(valorsx)-min(valorsx))                \n"
   ]
  },
  {
   "cell_type": "code",
   "execution_count": null,
   "id": "be386baf",
   "metadata": {},
   "outputs": [],
   "source": [
    "fig = plt.figure()\n",
    "ax1 = fig.add_subplot(111)\n",
    "\n",
    "ax1.scatter(norm_ROAx, norm_ROAy, s = 1, label=\"Pacients amb valoració >= 90\")\n",
    "ax1.scatter(not_norm_ROAx, not_norm_ROAy, s = 1, label=\"Pacients amb valoració < 90\")\n",
    "ax1.set_title(\"Màxima força a la prova ROA\")\n",
    "ax1.set_xlabel(\"Força ML\")\n",
    "ax1.set_ylabel(\"Força AP\")\n",
    "plt.legend()\n",
    "\n",
    "\n",
    "plt.show()"
   ]
  },
  {
   "cell_type": "code",
   "execution_count": null,
   "id": "0f3e4554",
   "metadata": {},
   "outputs": [],
   "source": [
    "fig = plt.figure()\n",
    "ax1 = fig.add_subplot(111)\n",
    "\n",
    "ax1.scatter(norm_ROCx, norm_ROCy, s = 1, label=\"Pacients amb valoració >= 90\")\n",
    "ax1.scatter(not_norm_ROCx, not_norm_ROCy, s = 1, label=\"Pacients amb valoració < 90\")\n",
    "ax1.set_title(\"Màxima força a la prova ROC\")\n",
    "ax1.set_xlabel(\"Força ML\")\n",
    "ax1.set_ylabel(\"Força AP\")\n",
    "plt.legend()\n",
    "\n",
    "plt.show()"
   ]
  },
  {
   "cell_type": "code",
   "execution_count": null,
   "id": "cecb2f44",
   "metadata": {},
   "outputs": [],
   "source": [
    "fig = plt.figure()\n",
    "ax1 = fig.add_subplot(111)\n",
    "\n",
    "ax1.scatter(norm_RGAx, norm_RGAy, s = 1, label=\"Pacients amb valoració >= 90\")\n",
    "ax1.scatter(not_norm_RGAx, not_norm_RGAy, s = 1, label=\"Pacients amb valoració < 90\")\n",
    "ax1.set_title(\"Màxima força a la prova RGA\")\n",
    "ax1.set_xlabel(\"Força ML\")\n",
    "ax1.set_ylabel(\"Força AP\")\n",
    "plt.legend()\n",
    "\n",
    "plt.show()"
   ]
  },
  {
   "cell_type": "code",
   "execution_count": null,
   "id": "0d8a4a3f",
   "metadata": {},
   "outputs": [],
   "source": [
    "fig = plt.figure()\n",
    "ax1 = fig.add_subplot(111)\n",
    "\n",
    "ax1.scatter(norm_RGCx, norm_RGCy, s = 1, label=\"Pacients amb valoració >= 80\")\n",
    "ax1.scatter(not_norm_RGCx, not_norm_RGCy, s = 1, label=\"Pacients amb valoració < 80\")\n",
    "ax1.set_title(\"Màxima força a la prova RGC\")\n",
    "ax1.set_xlabel(\"Força ML\")\n",
    "ax1.set_ylabel(\"Força AP\")\n",
    "plt.legend()\n",
    "\n",
    "plt.show()"
   ]
  },
  {
   "cell_type": "code",
   "execution_count": null,
   "id": "268e5977",
   "metadata": {},
   "outputs": [],
   "source": [
    "norm_ROA = np.vstack((norm_ROAx, norm_ROAy)).T\n",
    "norm_ROA = norm_ROA.tolist()\n",
    "\n",
    "not_norm_ROA = np.vstack((not_norm_ROAx, not_norm_ROAy)).T\n",
    "not_norm_ROA = not_norm_ROA.tolist()\n",
    "\n",
    "dist_norm = []\n",
    "dist_not_norm = []\n",
    "\n",
    "for p in norm_ROA:\n",
    "    dist_norm.append(distancia_al_limite_de_la_normalidad(p, norm_ROA))\n",
    "\n",
    "for p in not_norm_ROA:\n",
    "    dist_not_norm.append(distancia_al_limite_de_la_normalidad(p, norm_ROA))    "
   ]
  },
  {
   "cell_type": "code",
   "execution_count": null,
   "id": "89baf0cd",
   "metadata": {},
   "outputs": [],
   "source": [
    "fig = plt.figure()\n",
    "ax1 = fig.add_subplot(111)\n",
    "\n",
    "ax1.scatter(range(0,len(dist_norm)), dist_norm, s = 1, label=\"Dades normals\")\n",
    "ax1.scatter(range(0,len(dist_not_norm)), dist_not_norm, s = 1, label=\"Dades no normals\")\n",
    "ax1.set_title(\"Comparació distància al límit de la normalitat ROA\")\n",
    "plt.legend()\n",
    "\n",
    "plt.show()"
   ]
  },
  {
   "cell_type": "code",
   "execution_count": null,
   "id": "73373fda",
   "metadata": {},
   "outputs": [],
   "source": [
    "norm_ROC = np.vstack((norm_ROCx, norm_ROCy)).T\n",
    "norm_ROC = norm_ROC.tolist()\n",
    "\n",
    "not_norm_ROC = np.vstack((not_norm_ROCx, not_norm_ROCy)).T\n",
    "not_norm_ROC = not_norm_ROC.tolist()\n",
    "\n",
    "dist_norm = []\n",
    "dist_not_norm = []\n",
    "\n",
    "for p in norm_ROC:\n",
    "    dist_norm.append(distancia_al_limite_de_la_normalidad(p, norm_ROC))\n",
    "\n",
    "for p in not_norm_ROC:\n",
    "    dist_not_norm.append(distancia_al_limite_de_la_normalidad(p, norm_ROC))    "
   ]
  },
  {
   "cell_type": "code",
   "execution_count": null,
   "id": "af3b8668",
   "metadata": {},
   "outputs": [],
   "source": [
    "fig = plt.figure()\n",
    "ax1 = fig.add_subplot(111)\n",
    "\n",
    "ax1.scatter(range(0,len(dist_norm)), dist_norm, s = 1, label=\"Dades normals\")\n",
    "ax1.scatter(range(0,len(dist_not_norm)), dist_not_norm, s = 1, label=\"Dades no normals\")\n",
    "ax1.set_title(\"Comparació distància al límit de la normalitat ROC\")\n",
    "plt.legend()\n",
    "\n",
    "plt.show()"
   ]
  },
  {
   "cell_type": "code",
   "execution_count": null,
   "id": "f79317a4",
   "metadata": {},
   "outputs": [],
   "source": [
    "norm_RGA = np.vstack((norm_RGAx, norm_RGAy)).T\n",
    "norm_RGA = norm_RGA.tolist()\n",
    "\n",
    "not_norm_RGA = np.vstack((not_norm_RGAx, not_norm_RGAy)).T\n",
    "not_norm_RGA = not_norm_RGA.tolist()\n",
    "\n",
    "dist_norm = []\n",
    "dist_not_norm = []\n",
    "\n",
    "for p in norm_RGA:\n",
    "    dist_norm.append(distancia_al_limite_de_la_normalidad(p, norm_RGA))\n",
    "\n",
    "for p in not_norm_RGA:\n",
    "    dist_not_norm.append(distancia_al_limite_de_la_normalidad(p, norm_RGA))"
   ]
  },
  {
   "cell_type": "code",
   "execution_count": null,
   "id": "49123c96",
   "metadata": {},
   "outputs": [],
   "source": [
    "fig = plt.figure()\n",
    "ax1 = fig.add_subplot(111)\n",
    "\n",
    "ax1.scatter(range(0,len(dist_norm)), dist_norm, s = 1, label=\"Dades normals\")\n",
    "ax1.scatter(range(0,len(dist_not_norm)), dist_not_norm, s = 1, label=\"Dades no normals\")\n",
    "ax1.set_title(\"Comparació distància al límit de la normalitat RGA\")\n",
    "plt.legend()\n",
    "\n",
    "plt.show()"
   ]
  },
  {
   "cell_type": "code",
   "execution_count": null,
   "id": "7ff91158",
   "metadata": {},
   "outputs": [],
   "source": [
    "norm_RGC = np.vstack((norm_RGCx, norm_RGCy)).T\n",
    "norm_RGC = norm_RGC.tolist()\n",
    "\n",
    "not_norm_RGC = np.vstack((not_norm_RGCx, not_norm_RGCy)).T\n",
    "not_norm_RGC = not_norm_RGC.tolist()\n",
    "\n",
    "dist_norm = []\n",
    "dist_not_norm = []\n",
    "\n",
    "for p in norm_RGC:\n",
    "    dist_norm.append(distancia_al_limite_de_la_normalidad(p, norm_RGC))\n",
    "\n",
    "for p in not_norm_RGC:\n",
    "    dist_not_norm.append(distancia_al_limite_de_la_normalidad(p, norm_RGC))"
   ]
  },
  {
   "cell_type": "code",
   "execution_count": null,
   "id": "04c95b02",
   "metadata": {},
   "outputs": [],
   "source": [
    "fig = plt.figure()\n",
    "ax1 = fig.add_subplot(111)\n",
    "\n",
    "ax1.scatter(range(0,len(dist_norm)), dist_norm, s = 1, label=\"Dades normals\")\n",
    "ax1.scatter(range(0,len(dist_not_norm)), dist_not_norm, s = 1, label=\"Dades no normals\")\n",
    "ax1.set_title(\"Comparació distància al límit de la normalitat RGC\")\n",
    "plt.legend()\n",
    "\n",
    "plt.show()"
   ]
  },
  {
   "cell_type": "code",
   "execution_count": null,
   "id": "310178d1",
   "metadata": {},
   "outputs": [],
   "source": [
    "import os\n",
    "\n",
    "norm_ROAx = []\n",
    "norm_ROAy = []\n",
    "\n",
    "norm_ROCx = []\n",
    "norm_ROCy = []\n",
    "\n",
    "norm_RGAx = []\n",
    "norm_RGAy = []\n",
    "\n",
    "norm_RGCx = []\n",
    "norm_RGCy = []\n",
    "\n",
    "not_norm_ROAx = []\n",
    "not_norm_ROAy = []\n",
    "\n",
    "not_norm_ROCx = []\n",
    "not_norm_ROCy = []\n",
    "\n",
    "not_norm_RGAx = []\n",
    "not_norm_RGAy = []\n",
    "\n",
    "not_norm_RGCx = []\n",
    "not_norm_RGCy = []\n",
    "\n",
    "edats = []\n",
    "\n",
    "for filename in os.listdir(\"C:/Users/Usuario/OneDrive/Escritorio/Universitat/TFG/Mataro_posturograf\"):\n",
    "    if filename.endswith('.txt'):\n",
    "        reader = pd.read_csv(\"C:/Users/Usuario/OneDrive/Escritorio/Universitat/TFG/Mataro_posturograf/\" + filename, delimiter=\"\\t\", encoding=\"ansi\", skiprows=1, chunksize=1, header=None)\n",
    "        df_dades = reader.get_chunk()\n",
    "        if df_dades[[9]].values[0][0] > 67:\n",
    "            edats.append(df_dades[[9]].values[0][0])\n",
    "            num_test = df_dades[[16]].values[0] + df_dades[[21]].values[0] + df_dades[[26]].values[0] + df_dades[[31]].values[0]\n",
    "            df_dades_postu_xy = pd.read_csv(\"C:/Users/Usuario/OneDrive/Escritorio/Universitat/TFG/Mataro_posturograf/\" + filename, delimiter=\"\\t\", encoding=\"ansi\",skiprows=(17+int(num_test)), chunksize=1200, index_col=False).get_chunk()\n",
    "            \n",
    "            #if isinstance(df_dades[[18]].values[0][0], float) and df_dades[[18]].values[0][0] > 90:\n",
    "            if isinstance(df_dades[[17]].values[0][0], float) and df_dades[[17]].values[0][0] > 90:     \n",
    "                valorsy = list(map(float, df_dades_postu_xy[find_last_string_with_text(\"ROA\", df_dades_postu_xy.columns.tolist()[:-1])].values.tolist()[0:1200]))\n",
    "                valorsx = list(map(float, df_dades_postu_xy[find_last_string_with_text(\"ROA\", df_dades_postu_xy.columns.tolist()[:-1])[0:-1] + \"X\"].values.tolist()[0:1200]))\n",
    "                norm_ROAy.append(max(valorsy)-min(valorsy))\n",
    "                norm_ROAx.append(max(valorsx)-min(valorsx))\n",
    "            else:\n",
    "                if 'ROA' in '\\t'.join(df_dades_postu_xy.columns.tolist()[:-1]):                \n",
    "                    valorsy = list(map(float, df_dades_postu_xy[find_last_string_with_text(\"ROA\", df_dades_postu_xy.columns.tolist()[:-1])].values.tolist()[0:1200]))\n",
    "                    valorsx = list(map(float, df_dades_postu_xy[find_last_string_with_text(\"ROA\", df_dades_postu_xy.columns.tolist()[:-1])[0:-1] + \"X\"].values.tolist()[0:1200]))\n",
    "                    not_norm_ROAy.append(max(valorsy)-min(valorsy))\n",
    "                    not_norm_ROAx.append(max(valorsx)-min(valorsx))\n",
    "                        \n",
    "            #if isinstance(df_dades[[23]].values[0][0], float) and df_dades[[23]].values[0][0] > 90:                    \n",
    "            if isinstance(df_dades[[22]].values[0][0], float) and df_dades[[22]].values[0][0] > 90:\n",
    "                    valorsy = list(map(float, df_dades_postu_xy[find_last_string_with_text(\"ROC\", df_dades_postu_xy.columns.tolist()[:-1])].values.tolist()[0:1200]))                            \n",
    "                    valorsx = list(map(float, df_dades_postu_xy[find_last_string_with_text(\"ROC\", df_dades_postu_xy.columns.tolist()[:-1])[0:-1] + \"X\"].values.tolist()[0:1200]))            \n",
    "                    norm_ROCy.append(max(valorsy)-min(valorsy))\n",
    "                    norm_ROCx.append(max(valorsx)-min(valorsx))\n",
    "            else:\n",
    "                if 'ROC' in '\\t'.join(df_dades_postu_xy.columns.tolist()[:-1]):                \n",
    "                    valorsy = list(map(float, df_dades_postu_xy[find_last_string_with_text(\"ROC\", df_dades_postu_xy.columns.tolist()[:-1])].values.tolist()[0:1200]))                            \n",
    "                    valorsx = list(map(float, df_dades_postu_xy[find_last_string_with_text(\"ROC\", df_dades_postu_xy.columns.tolist()[:-1])[0:-1] + \"X\"].values.tolist()[0:1200]))            \n",
    "                    not_norm_ROCy.append(max(valorsy)-min(valorsy))\n",
    "                    not_norm_ROCx.append(max(valorsx)-min(valorsx)) \n",
    "                        \n",
    "            #if isinstance(df_dades[[28]].values[0][0], float) and df_dades[[28]].values[0][0] > 90:\n",
    "            if isinstance(df_dades[[27]].values[0][0], float) and df_dades[[27]].values[0][0] > 90:\n",
    "\n",
    "                    valorsy = list(map(float, df_dades_postu_xy[find_last_string_with_text(\"RGA\", df_dades_postu_xy.columns.tolist()[:-1])].values.tolist()[0:1200]))\n",
    "                    valorsx = list(map(float, df_dades_postu_xy[find_last_string_with_text(\"RGA\", df_dades_postu_xy.columns.tolist()[:-1])[0:-1] + \"X\"].values.tolist()[0:1200]))\n",
    "                    norm_RGAy.append(max(valorsy)-min(valorsy))\n",
    "                    norm_RGAx.append(max(valorsx)-min(valorsx))\n",
    "            else:\n",
    "                if 'RGA' in '\\t'.join(df_dades_postu_xy.columns.tolist()[:-1]):\n",
    "                    valorsy = list(map(float, df_dades_postu_xy[find_last_string_with_text(\"RGA\", df_dades_postu_xy.columns.tolist()[:-1])].values.tolist()[0:1200]))\n",
    "                    valorsx = list(map(float, df_dades_postu_xy[find_last_string_with_text(\"RGA\", df_dades_postu_xy.columns.tolist()[:-1])[0:-1] + \"X\"].values.tolist()[0:1200]))\n",
    "                    not_norm_RGAy.append(max(valorsy)-min(valorsy))\n",
    "                    not_norm_RGAx.append(max(valorsx)-min(valorsx))   \n",
    "                        \n",
    "            #if isinstance(df_dades[[33]].values[0][0], float) and df_dades[[33]].values[0][0] > 90:                    \n",
    "            if isinstance(df_dades[[32]].values[0][0], float) and df_dades[[32]].values[0][0] > 90:\n",
    "                    valorsy = list(map(float, df_dades_postu_xy[find_last_string_with_text(\"RGC\", df_dades_postu_xy.columns.tolist()[:-1])].values.tolist()[0:1200]))\n",
    "                    valorsx = list(map(float, df_dades_postu_xy[find_last_string_with_text(\"RGC\", df_dades_postu_xy.columns.tolist()[:-1])[0:-1] + \"X\"].values.tolist()[0:1200]))\n",
    "                    norm_RGCy.append(max(valorsy)-min(valorsy))\n",
    "                    norm_RGCx.append(max(valorsx)-min(valorsx))\n",
    "            else:\n",
    "                if 'RGC' in '\\t'.join(df_dades_postu_xy.columns.tolist()[:-1]):\n",
    "                    valorsy = list(map(float, df_dades_postu_xy[find_last_string_with_text(\"RGC\", df_dades_postu_xy.columns.tolist()[:-1])].values.tolist()[0:1200]))\n",
    "                    valorsx = list(map(float, df_dades_postu_xy[find_last_string_with_text(\"RGC\", df_dades_postu_xy.columns.tolist()[:-1])[0:-1] + \"X\"].values.tolist()[0:1200]))\n",
    "                    not_norm_RGCy.append(max(valorsy)-min(valorsy))\n",
    "                    not_norm_RGCx.append(max(valorsx)-min(valorsx))                \n"
   ]
  },
  {
   "cell_type": "code",
   "execution_count": null,
   "id": "7609c79e",
   "metadata": {},
   "outputs": [],
   "source": [
    "fig = plt.figure()\n",
    "ax1 = fig.add_subplot(111)\n",
    "\n",
    "ax1.scatter(norm_ROAx, norm_ROAy, s = 1, label=\"Pacients amb valoració >= 90\")\n",
    "ax1.scatter(not_norm_ROAx, not_norm_ROAy, s = 1, label=\"Pacients amb valoració < 90\")\n",
    "ax1.set_title(\"Màxim desplaçament a la prova ROA\")\n",
    "plt.legend()\n",
    "\n",
    "plt.show()"
   ]
  },
  {
   "cell_type": "code",
   "execution_count": null,
   "id": "98a93808",
   "metadata": {},
   "outputs": [],
   "source": [
    "fig = plt.figure()\n",
    "ax1 = fig.add_subplot(111)\n",
    "\n",
    "ax1.scatter(norm_ROCx, norm_ROCy, s = 1, label=\"Pacients amb valoració >= 90\")\n",
    "ax1.scatter(not_norm_ROCx, not_norm_ROCy, s = 1, label=\"Pacients amb valoració < 90\")\n",
    "ax1.set_title(\"Màxim desplaçament a la prova ROC\")\n",
    "plt.legend()\n",
    "\n",
    "plt.show()"
   ]
  },
  {
   "cell_type": "code",
   "execution_count": null,
   "id": "f677b1e6",
   "metadata": {},
   "outputs": [],
   "source": [
    "fig = plt.figure()\n",
    "ax1 = fig.add_subplot(111)\n",
    "\n",
    "ax1.scatter(norm_RGAx, norm_RGAy, s = 1, label=\"Pacients amb valoració >= 90\")\n",
    "ax1.scatter(not_norm_RGAx, not_norm_RGAy, s = 1, label=\"Pacients amb valoració < 90\")\n",
    "ax1.set_title(\"Màxim desplaçament a la prova RGA\")\n",
    "plt.legend()\n",
    "\n",
    "plt.show()"
   ]
  },
  {
   "cell_type": "code",
   "execution_count": null,
   "id": "746e70aa",
   "metadata": {},
   "outputs": [],
   "source": [
    "fig = plt.figure()\n",
    "ax1 = fig.add_subplot(111)\n",
    "\n",
    "ax1.scatter(norm_RGCx, norm_RGCy, s = 1, label=\"Pacients amb valoració >= 90\")\n",
    "ax1.scatter(not_norm_RGCx, not_norm_RGCy, s = 1, label=\"Pacients amb valoració < 90\")\n",
    "ax1.set_title(\"Màxim desplaçament a la prova RGC\")\n",
    "plt.legend()\n",
    "\n",
    "plt.show()"
   ]
  }
 ],
 "metadata": {
  "kernelspec": {
   "display_name": "Python 3 (ipykernel)",
   "language": "python",
   "name": "python3"
  },
  "language_info": {
   "codemirror_mode": {
    "name": "ipython",
    "version": 3
   },
   "file_extension": ".py",
   "mimetype": "text/x-python",
   "name": "python",
   "nbconvert_exporter": "python",
   "pygments_lexer": "ipython3",
   "version": "3.9.13"
  }
 },
 "nbformat": 4,
 "nbformat_minor": 5
}
