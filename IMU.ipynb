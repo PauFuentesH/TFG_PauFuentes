{
 "cells": [
  {
   "cell_type": "code",
   "execution_count": null,
   "id": "4f436b03",
   "metadata": {},
   "outputs": [],
   "source": [
    "import pandas as pd\n",
    "from datetime import datetime\n",
    "import matplotlib.pyplot as plt\n",
    "from sklearn.preprocessing import normalize\n",
    "import numpy as np\n",
    "from AHRS import AHRS\n",
    "from quaternions import quaternRotate\n",
    "from funcions import convertData, convertDataHex, grafica, find_discontinuity, obtenir_x_valors"
   ]
  },
  {
   "cell_type": "code",
   "execution_count": null,
   "id": "87401aee",
   "metadata": {},
   "outputs": [],
   "source": [
    "dades = pd.read_csv(\"C:/Users/Usuario/OneDrive/Escritorio/Universitat/TFG/Mataro_postu_IMU/ID_vm54f_DATA_15-03-2023_HORA_17-07-28.351.csv\", delimiter=\";\")\n",
    "dades"
   ]
  },
  {
   "cell_type": "code",
   "execution_count": null,
   "id": "b2cd06ab",
   "metadata": {},
   "outputs": [],
   "source": [
    "#print(dades[\"time\"])\n",
    "convertData(dades,\"accelerometerX\",10)\n",
    "convertData(dades,\"accelerometerY\",10)\n",
    "convertData(dades,\"accelerometerZ\",10)\n",
    "\n",
    "convertDataHex(dades,\"gravityVectorX\",10)\n",
    "convertDataHex(dades,\"gravityVectorY\",10)\n",
    "convertDataHex(dades,\"gravityVectorZ\",10)\n",
    "\n",
    "#convertDataHex(dades,\"quaternionW\",10)\n",
    "#convertDataHex(dades,\"quaternionX\",10)\n",
    "#convertDataHex(dades,\"quaternionY\",10)\n",
    "#convertDataHex(dades,\"quaternionZ\",10)\n",
    "\n",
    "convertDataHex(dades,\"gyroscopeX\",10)\n",
    "convertDataHex(dades,\"gyroscopeY\",10)\n",
    "convertDataHex(dades,\"gyroscopeZ\",10)"
   ]
  },
  {
   "cell_type": "markdown",
   "id": "2d74d9fb",
   "metadata": {},
   "source": [
    "# Exemple carregar dades IMU"
   ]
  },
  {
   "cell_type": "code",
   "execution_count": null,
   "id": "42b75fe5",
   "metadata": {},
   "outputs": [],
   "source": [
    "balance_test = dades.loc[dades[\"test\"]==5, [\"action\",\"accelerometerX\", \"accelerometerY\", \"accelerometerZ\", \"gravityVectorX\", \"gravityVectorY\", \"gravityVectorZ\",\"gyroscopeX\", \"gyroscopeY\", \"gyroscopeZ\" ]]\n",
    "\n",
    "llista_ROA = balance_test.index[balance_test[\"action\"] == 1].tolist()\n",
    "llista_ROC = balance_test.index[balance_test[\"action\"] == 2].tolist()\n",
    "llista_RGA = balance_test.index[balance_test[\"action\"] == 3].tolist()\n",
    "llista_RGC = balance_test.index[balance_test[\"action\"] == 4].tolist()\n",
    "balance_test.drop(\"action\", inplace=True, axis=1)"
   ]
  },
  {
   "cell_type": "code",
   "execution_count": null,
   "id": "d92ed69a",
   "metadata": {},
   "outputs": [],
   "source": [
    "index, missing_value = find_discontinuity(llista_ROA)\n",
    "ROA1 = [*range(llista_ROA[0], missing_value)]\n",
    "\n",
    "index, missing_value = find_discontinuity(llista_ROC)\n",
    "ROC1 = [*range(llista_ROC[0], missing_value)]\n",
    "\n",
    "index, missing_value = find_discontinuity(llista_RGA)\n",
    "RGA1 = [*range(llista_RGA[0], missing_value)]\n",
    "\n",
    "index, missing_value = find_discontinuity(llista_RGC)\n",
    "RGC1 = [*range(llista_RGC[0], missing_value)]"
   ]
  },
  {
   "cell_type": "code",
   "execution_count": null,
   "id": "c588f5fc",
   "metadata": {},
   "outputs": [],
   "source": [
    "resultat=[]\n",
    "resultat=grafica(RGA1)"
   ]
  },
  {
   "cell_type": "markdown",
   "id": "57e2e401",
   "metadata": {},
   "source": [
    "## Gràfic dades IMU"
   ]
  },
  {
   "cell_type": "code",
   "execution_count": null,
   "id": "8d9a9f11",
   "metadata": {},
   "outputs": [],
   "source": [
    "x=0\n",
    "#for i in resultat:\n",
    "    #i.plot(ax=axes[1,x] ,title=\"Espuma Ulls tancats\")\n",
    "resultat[0][\"gravityVectorX\"].plot()\n",
    "resultat[0][\"gravityVectorY\"].plot()\n",
    "resultat[0][\"gravityVectorZ\"].plot(title=\"Prova RGA\")\n",
    "\n",
    "plt.show()"
   ]
  },
  {
   "cell_type": "code",
   "execution_count": null,
   "id": "e691e812",
   "metadata": {},
   "outputs": [],
   "source": [
    "resultat=[]\n",
    "resultat=grafica(ROA1)"
   ]
  },
  {
   "cell_type": "markdown",
   "id": "71a23328",
   "metadata": {},
   "source": [
    "## Trajectòria estimada IMU"
   ]
  },
  {
   "cell_type": "code",
   "execution_count": null,
   "id": "31c4abc5",
   "metadata": {},
   "outputs": [],
   "source": [
    "rotated_vector = np.array([1.0,0.0,0.0])\n",
    "trajectoriax = [rotated_vector[0]]\n",
    "trajectoriay = [rotated_vector[1]]\n",
    "trajectoriaz = [rotated_vector[2]]\n",
    "\n",
    "AHRSalgorithm = AHRS(SamplePeriod=1/40, Kp=1,Ki=1, KpInit=1)\n",
    "\n",
    "for i in range(len(resultat[0])):\n",
    "    AHRSalgorithm.Kp = 0\n",
    "    AHRSalgorithm.UpdateIMU(resultat[0][['gyroscopeX', 'gyroscopeY', 'gyroscopeZ']].iloc[i].values.tolist(), \n",
    "                            resultat[0][['accelerometerX', 'accelerometerX', 'accelerometerX']].iloc[i].values.tolist())\n",
    "    quaternions = AHRSalgorithm.Quaternion\n",
    "    rotated_vector = quaternRotate(rotated_vector, quaternions)\n",
    "    #print(rotated_vector)\n",
    "    trajectoriax.append(trajectoriax[-1] + rotated_vector[0]*deltat)\n",
    "    trajectoriay.append(trajectoriay[-1] + rotated_vector[1]*deltat)\n",
    "    trajectoriaz.append(trajectoriaz[-1] + rotated_vector[2]*deltat)"
   ]
  },
  {
   "cell_type": "code",
   "execution_count": null,
   "id": "5f458d27",
   "metadata": {},
   "outputs": [],
   "source": [
    "fig = plt.figure()\n",
    "ax1 = fig.add_subplot(111, projection = '3d')\n",
    "\n",
    "ax1.plot(trajectoriax, trajectoriay, trajectoriaz)\n",
    "ax1.set_title(\"Desplaçament VM54F ROA\")\n",
    "\n",
    "\n",
    "plt.show()"
   ]
  },
  {
   "cell_type": "markdown",
   "id": "1ea2c150",
   "metadata": {},
   "source": [
    "## Comparació força posturògraf amb forces IMU(Normalitzades)"
   ]
  },
  {
   "cell_type": "code",
   "execution_count": null,
   "id": "f05c554d",
   "metadata": {
    "scrolled": true
   },
   "outputs": [],
   "source": [
    "if False:\n",
    "    reader = pd.read_csv(\"C:/Users/Usuario/OneDrive/Escritorio/Universitat/TFG/Mataro_postu_IMU/2023031504_sve_VM54F.txt\", delimiter=\"\\t\", encoding=\"ansi\", chunksize=1)\n",
    "    df_dades = reader.get_chunk()\n",
    "    #print(df_dades)\n",
    "    print(df_dades.columns)\n",
    "    \"\"\"\n",
    "    count=0\n",
    "    for i in df_dades.columns:\n",
    "        print(i, count)\n",
    "        count+=1\n",
    "    \"\"\"\n",
    "\n",
    "\n",
    "#reader = pd.read_csv(\"../../dades/dades posturograf/2022071305_sve_FJ52F.txt\", delimiter=\"\\t\", encoding=\"ansi\", chunksize=2)\n",
    "reader = pd.read_csv(\"C:/Users/Usuario/OneDrive/Escritorio/Universitat/TFG/Mataro_postu_IMU/2023031504_sve_VM54F.txt\", delimiter=\"\\t\", encoding=\"ansi\", skiprows=1, chunksize=1, header=None)\n",
    "\n",
    "\n",
    "df_dades = reader.get_chunk()\n",
    "\n",
    "print(df_dades[17].item())\n",
    "Val_ROA = df_dades[17].item() #ROA\n",
    "\n",
    "print(df_dades[22].item())\n",
    "Val_ROC = df_dades[22].item() #ROC\n",
    "\n",
    "print(df_dades[27].item())\n",
    "Val_RGA = df_dades[27].item() #RGA\n",
    "Val_RGA = 0.0\n",
    "\n",
    "print(df_dades[32].item())\n",
    "Val_RGC = df_dades[32].item() #RGC\n",
    "Val_RGC = 0.0\n",
    "\n",
    "print(df_dades[53].item())\n",
    "print(df_dades[54].item())\n",
    "print(df_dades[55].item())\n",
    "\n",
    "masa = df_dades[7]\n",
    "#print(df_dades)\n",
    "#print(df_dades.columns)\n",
    "#num_test = df_dades[['Nº_ROA','Nº_ROC','Nº_RGA','Nº_RGC']].values.tolist()\n",
    "\n",
    "#'Nº_test', 'Val_test',Rep_test', 'EstML_test', 'EstAP_test'\n",
    "roa = df_dades.iloc[:,16:21].values.tolist()\n",
    "roc = df_dades.iloc[:,21:26].values.tolist()\n",
    "rga = df_dades.iloc[:,26:31].values.tolist()\n",
    "rgc = df_dades.iloc[:,31:36].values.tolist()\n",
    "\n",
    "##SOM VIS VEST\n",
    "result = df_dades.iloc[:,53:56].values.tolist()\n",
    "\n",
    "print(roa)\n",
    "print(roc)\n",
    "print(rga)\n",
    "print(rgc)\n",
    "print(result)\n",
    "\n",
    "num_test = roa[0][0] + roc[0][0] + rga[0][0] + rgc[0][0]\n",
    "print(\"Total tests\")\n",
    "print(num_test)"
   ]
  },
  {
   "cell_type": "code",
   "execution_count": null,
   "id": "54621ec6",
   "metadata": {},
   "outputs": [],
   "source": [
    "df_dades_postu_FxFy  = pd.read_csv(\"C:/Users/Usuario/OneDrive/Escritorio/Universitat/TFG/Mataro_postu_IMU/2023031504_sve_VM54F.txt\", delimiter=\"\\t\", encoding=\"ansi\",skiprows=(17+int(num_test)+1+1200), index_col=False, nrows = 1200)"
   ]
  },
  {
   "cell_type": "markdown",
   "id": "e624e7aa",
   "metadata": {},
   "source": [
    "### Força posturógraf"
   ]
  },
  {
   "cell_type": "code",
   "execution_count": null,
   "id": "c93e4e69",
   "metadata": {},
   "outputs": [],
   "source": [
    "df_dades_postu_FxFy.columns"
   ]
  },
  {
   "cell_type": "code",
   "execution_count": null,
   "id": "766512b3",
   "metadata": {},
   "outputs": [],
   "source": [
    "Test = 'RGC10_'"
   ]
  },
  {
   "cell_type": "code",
   "execution_count": null,
   "id": "e3d10996",
   "metadata": {},
   "outputs": [],
   "source": [
    "Fx_norm = normalize([np.array(df_dades_postu_FxFy[Test + 'Fx'])])\n",
    "Fy_norm = normalize([np.array(df_dades_postu_FxFy[Test + 'Fy'])])\n",
    "\n",
    "llista = list(range(0,len(Fx_norm[0])))"
   ]
  },
  {
   "cell_type": "code",
   "execution_count": null,
   "id": "d34e2119",
   "metadata": {},
   "outputs": [],
   "source": [
    "fig = plt.figure()\n",
    "ax1 = fig.add_subplot(111)\n",
    "\n",
    "ax1.scatter(llista, Fx_norm[0], s = 1, label=\"X\")\n",
    "ax1.scatter(llista, Fy_norm[0], s = 1, label=\"Y\")\n",
    "#ax1.set_title((\"Força normalitzada de persona amb Val_ROA = \", Val_ROA))\n",
    "#ax1.set_title((\"Força normalitzada de persona amb Val_ROC = \", Val_ROC))\n",
    "#ax1.set_title((\"Força normalitzada de persona amb Val_RGA = \", Val_RGA))\n",
    "#ax1.set_title((\"Força normalitzada de persona amb Val_RGC = \", Val_RGC))\n",
    "\n",
    "print(\"Diferència forces en x: \", max(Fx_norm[0]) - min(Fx_norm[0]))\n",
    "print(\"Diferència forces en y: \", max(Fy_norm[0]) - min(Fy_norm[0]))\n",
    "\n",
    "plt.legend()\n",
    "\n",
    "plt.show()"
   ]
  },
  {
   "cell_type": "markdown",
   "id": "80c51de1",
   "metadata": {},
   "source": [
    "### Accelerómetre "
   ]
  },
  {
   "cell_type": "code",
   "execution_count": null,
   "id": "56d3843b",
   "metadata": {},
   "outputs": [],
   "source": [
    "resultat=[]\n",
    "resultat=grafica(RGA1)"
   ]
  },
  {
   "cell_type": "code",
   "execution_count": null,
   "id": "deaa3323",
   "metadata": {},
   "outputs": [],
   "source": [
    "Fz_norm_IMU = normalize([resultat[0][\"accelerometerZ\"]*masa.item()*9.81]) \n",
    "Fx_norm_IMU = normalize([resultat[0][\"accelerometerX\"]*masa.item()*9.81]) \n",
    "Fy_norm_IMU = normalize([resultat[0][\"accelerometerY\"]*masa.item()*9.81]) \n",
    "\n",
    "llista = list(range(0,len(Fz_norm_IMU[0])))"
   ]
  },
  {
   "cell_type": "code",
   "execution_count": null,
   "id": "6065d585",
   "metadata": {},
   "outputs": [],
   "source": [
    "fig = plt.figure()\n",
    "ax1 = fig.add_subplot(111)\n",
    "\n",
    "ax1.scatter(llista, Fx_norm_IMU[0], s = 1, label=\"X\")\n",
    "ax1.scatter(llista, Fy_norm_IMU[0], s = 1, label=\"Y\")\n",
    "ax1.scatter(llista, Fz_norm_IMU[0], s = 1, label=\"Z\")\n",
    "#ax1.set_title((\"Força normalitzada de persona amb Val_ROA = \", Val_ROA))\n",
    "ax1.set_title((\"Força normalitzada de persona amb Val_ROC = \", Val_ROC))\n",
    "#ax1.set_title((\"Força normalitzada de persona amb Val_RGA = \", Val_RGA))\n",
    "#ax1.set_title((\"Força normalitzada de persona amb Val_RGC = \", Val_RGC))\n",
    "\n",
    "print(\"Diferència forces en z: \", max(Fz_norm_IMU[0]) - min(Fz_norm_IMU[0]))\n",
    "print(\"Diferència forces en y: \", max(Fy_norm_IMU[0]) - min(Fy_norm_IMU[0]))\n",
    "\n",
    "plt.legend()\n",
    "\n",
    "plt.show()"
   ]
  },
  {
   "cell_type": "markdown",
   "id": "5f396f6d",
   "metadata": {},
   "source": [
    "### Vector Gravity"
   ]
  },
  {
   "cell_type": "code",
   "execution_count": null,
   "id": "a9974806",
   "metadata": {},
   "outputs": [],
   "source": [
    "Fz_norm_IMU_gravity = normalize([resultat[0][\"gravityVectorZ\"]*masa.item()])\n",
    "Fx_norm_IMU_gravity = normalize([resultat[0][\"gravityVectorX\"]*masa.item()])\n",
    "Fy_norm_IMU_gravity = normalize([resultat[0][\"gravityVectorY\"]*masa.item()])\n",
    "\n",
    "llista = list(range(0,len(Fz_norm_IMU_gravity[0])))"
   ]
  },
  {
   "cell_type": "code",
   "execution_count": null,
   "id": "0f5cbb7e",
   "metadata": {
    "scrolled": true
   },
   "outputs": [],
   "source": [
    "fig = plt.figure()\n",
    "ax1 = fig.add_subplot(111)\n",
    "\n",
    "ax1.scatter(llista, Fx_norm_IMU_gravity[0], s = 1, label=\"X\")\n",
    "ax1.scatter(llista, Fy_norm_IMU_gravity[0], s = 1, label=\"Y\")\n",
    "ax1.scatter(llista, Fz_norm_IMU_gravity[0], s = 1, label=\"Z\")\n",
    "#ax1.set_title((\"Força normalitzada de persona amb Val_ROA = \", Val_ROA))\n",
    "ax1.set_title((\"Força normalitzada de persona amb Val_ROC = \", Val_ROC))\n",
    "#ax1.set_title((\"Força normalitzada de persona amb Val_RGA = \", Val_RGA))\n",
    "#ax1.set_title((\"Força normalitzada de persona amb Val_RGC = \", Val_RGC))\n",
    "\n",
    "print(\"Diferència forces en z: \", max(Fz_norm_IMU_gravity[0]) - min(Fz_norm_IMU_gravity[0]))\n",
    "print(\"Diferència forces en y: \", max(Fy_norm_IMU_gravity[0]) - min(Fy_norm_IMU_gravity[0]))\n",
    "\n",
    "plt.legend()\n",
    "\n",
    "plt.show()"
   ]
  },
  {
   "cell_type": "markdown",
   "id": "cb9b9e6e",
   "metadata": {},
   "source": [
    "## Agrupar Dades IMU per edat"
   ]
  },
  {
   "cell_type": "markdown",
   "id": "28472631",
   "metadata": {},
   "source": [
    "Hi ha 5 grups d'edat entre els 68 i els 73 anys, un per cada any."
   ]
  },
  {
   "cell_type": "code",
   "execution_count": null,
   "id": "2e67882e",
   "metadata": {},
   "outputs": [],
   "source": [
    "dades_forca = pd.read_csv(\"C:/Users/Usuario/OneDrive/Escritorio/Universitat/TFG/dades_força_IMU.csv\", dtype={'Forca_maxima_acc_x': float, 'Forca_maxima_acc_y': float, 'Forca_maxima_grav_x': float, 'Forca_maxima_grav_y': float, 'Puntuacio':float}).drop('Unnamed: 0', axis=1)\n",
    "dades_forca"
   ]
  },
  {
   "cell_type": "code",
   "execution_count": null,
   "id": "73ea6ff6",
   "metadata": {},
   "outputs": [],
   "source": [
    "dades_forca_ROA = dades_forca.loc[(dades_forca['Prova'] == 'ROA')]\n",
    "dades_forca_ROC = dades_forca.loc[(dades_forca['Prova'] == 'ROC')]\n",
    "dades_forca_RGA = dades_forca.loc[(dades_forca['Prova'] == 'RGA')]\n",
    "dades_forca_RGC = dades_forca.loc[(dades_forca['Prova'] == 'RGC')]"
   ]
  },
  {
   "cell_type": "code",
   "execution_count": null,
   "id": "2d4c78d0",
   "metadata": {},
   "outputs": [],
   "source": [
    "dades_forca_ROA_mal = dades_forca_ROA.loc[(dades_forca_ROA['Puntuacio'] < 90)]\n",
    "dades_forca_ROA_bo = dades_forca_ROA.loc[(dades_forca_ROA['Puntuacio']) >= 90]\n",
    "\n",
    "dades_forca_ROC_mal = dades_forca_ROC.loc[(dades_forca_ROC['Puntuacio'] < 90)]\n",
    "dades_forca_ROC_bo = dades_forca_ROC.loc[(dades_forca_ROC['Puntuacio']) >= 90]\n",
    "\n",
    "dades_forca_RGA_mal = dades_forca_RGA.loc[(dades_forca_RGA['Puntuacio'] < 90)]\n",
    "dades_forca_RGA_bo = dades_forca_RGA.loc[(dades_forca_RGA['Puntuacio']) >= 90]\n",
    "\n",
    "dades_forca_RGC_mal = dades_forca_RGC.loc[(dades_forca_RGC['Puntuacio'] < 80)]\n",
    "dades_forca_RGC_bo = dades_forca_RGC.loc[(dades_forca_RGC['Puntuacio']) >= 80]"
   ]
  },
  {
   "cell_type": "code",
   "execution_count": null,
   "id": "0c9f09bf",
   "metadata": {},
   "outputs": [],
   "source": [
    "fig = plt.figure()\n",
    "ax1 = fig.add_subplot(111)\n",
    "\n",
    "ax1.scatter(dades_forca_ROA_bo['Forca_maxima_acc_x'], dades_forca_ROA_bo['Forca_maxima_acc_y'], s = 1, label=\"Pacients amb valoració >= 90\")\n",
    "ax1.scatter(dades_forca_ROA_mal['Forca_maxima_acc_x'], dades_forca_ROA_mal['Forca_maxima_acc_y'], s = 1, label=\"Pacients amb valoració < 90\")\n",
    "ax1.set_title(\"Màxima acceleració a la prova ROA\")\n",
    "plt.legend()\n",
    "\n",
    "\n",
    "plt.show()"
   ]
  },
  {
   "cell_type": "code",
   "execution_count": null,
   "id": "31c741a0",
   "metadata": {},
   "outputs": [],
   "source": [
    "fig = plt.figure()\n",
    "ax1 = fig.add_subplot(111)\n",
    "\n",
    "ax1.scatter(dades_forca_ROC_bo['Forca_maxima_acc_x'], dades_forca_ROC_bo['Forca_maxima_acc_y'], s = 1, label=\"Pacients amb valoració >= 90\")\n",
    "ax1.scatter(dades_forca_ROC_mal['Forca_maxima_acc_x'], dades_forca_ROC_mal['Forca_maxima_acc_y'], s = 1, label=\"Pacients amb valoració < 90\")\n",
    "ax1.set_title(\"Màxima acceleració a la prova ROC\")\n",
    "plt.legend()\n",
    "\n",
    "\n",
    "plt.show()"
   ]
  },
  {
   "cell_type": "code",
   "execution_count": null,
   "id": "eed230cb",
   "metadata": {},
   "outputs": [],
   "source": [
    "fig = plt.figure()\n",
    "ax1 = fig.add_subplot(111)\n",
    "\n",
    "ax1.scatter(dades_forca_RGA_bo['Forca_maxima_acc_x'], dades_forca_RGA_bo['Forca_maxima_acc_y'], s = 1, label=\"Pacients amb valoració >= 90\")\n",
    "ax1.scatter(dades_forca_RGA_mal['Forca_maxima_acc_x'], dades_forca_RGA_mal['Forca_maxima_acc_y'], s = 1, label=\"Pacients amb valoració < 90\")\n",
    "ax1.set_title(\"Màxima acceleració a la prova RGA\")\n",
    "plt.legend()\n",
    "\n",
    "\n",
    "plt.show()"
   ]
  },
  {
   "cell_type": "code",
   "execution_count": null,
   "id": "f43fe4a8",
   "metadata": {},
   "outputs": [],
   "source": [
    "fig = plt.figure()\n",
    "ax1 = fig.add_subplot(111)\n",
    "\n",
    "ax1.scatter(dades_forca_RGC_bo['Forca_maxima_acc_x'], dades_forca_RGC_bo['Forca_maxima_acc_y'], s = 1, label=\"Pacients amb valoració >= 90\")\n",
    "ax1.scatter(dades_forca_RGC_mal['Forca_maxima_acc_x'], dades_forca_RGC_mal['Forca_maxima_acc_y'], s = 1, label=\"Pacients amb valoració < 90\")\n",
    "ax1.set_title(\"Màxima acceleració a la prova RGC\")\n",
    "plt.legend()\n",
    "\n",
    "\n",
    "plt.show()"
   ]
  },
  {
   "cell_type": "code",
   "execution_count": null,
   "id": "67c28247",
   "metadata": {},
   "outputs": [],
   "source": [
    "fig = plt.figure()\n",
    "ax1 = fig.add_subplot(111)\n",
    "\n",
    "ax1.scatter(dades_forca_ROA_bo['Forca_maxima_grav_x'], dades_forca_ROA_bo['Forca_maxima_grav_y'], s = 1, label=\"Pacients amb valoració >= 90\")\n",
    "ax1.scatter(dades_forca_ROA_mal['Forca_maxima_grav_x'], dades_forca_ROA_mal['Forca_maxima_grav_y'], s = 1, label=\"Pacients amb valoració < 90\")\n",
    "ax1.set_title(\"Màxim vector gravetat a la prova ROA\")\n",
    "ax1.set_xlim(-0.001,0.25)\n",
    "ax1.set_ylim(-0.001,0.25)\n",
    "plt.legend()\n",
    "\n",
    "\n",
    "plt.show()"
   ]
  },
  {
   "cell_type": "code",
   "execution_count": null,
   "id": "d7cb7416",
   "metadata": {},
   "outputs": [],
   "source": [
    "fig = plt.figure()\n",
    "ax1 = fig.add_subplot(111)\n",
    "\n",
    "ax1.scatter(dades_forca_ROC_bo['Forca_maxima_grav_x'], dades_forca_ROC_bo['Forca_maxima_grav_y'], s = 1, label=\"Pacients amb valoració >= 90\")\n",
    "ax1.scatter(dades_forca_ROC_mal['Forca_maxima_grav_x'], dades_forca_ROC_mal['Forca_maxima_grav_y'], s = 1, label=\"Pacients amb valoració < 90\")\n",
    "ax1.set_title(\"Màxim vector gravetat a la prova ROC\")\n",
    "plt.legend()\n",
    "\n",
    "\n",
    "plt.show()"
   ]
  },
  {
   "cell_type": "code",
   "execution_count": null,
   "id": "8bee7758",
   "metadata": {},
   "outputs": [],
   "source": [
    "fig = plt.figure()\n",
    "ax1 = fig.add_subplot(111)\n",
    "\n",
    "ax1.scatter(dades_forca_RGA_bo['Forca_maxima_grav_x'], dades_forca_RGA_bo['Forca_maxima_grav_y'], s = 1, label=\"Pacients amb valoració >= 90\")\n",
    "ax1.scatter(dades_forca_RGA_mal['Forca_maxima_grav_x'], dades_forca_RGA_mal['Forca_maxima_grav_y'], s = 1, label=\"Pacients amb valoració < 90\")\n",
    "ax1.set_title(\"Màxim vector gravetat a la prova RGA\")\n",
    "plt.legend()\n",
    "\n",
    "\n",
    "plt.show()"
   ]
  },
  {
   "cell_type": "code",
   "execution_count": null,
   "id": "16746afb",
   "metadata": {},
   "outputs": [],
   "source": [
    "fig = plt.figure()\n",
    "ax1 = fig.add_subplot(111)\n",
    "\n",
    "ax1.scatter(dades_forca_RGC_bo['Forca_maxima_grav_x'], dades_forca_RGC_bo['Forca_maxima_grav_y'], s = 1, label=\"Pacients amb valoració >= 90\")\n",
    "ax1.scatter(dades_forca_RGC_mal['Forca_maxima_grav_x'], dades_forca_RGC_mal['Forca_maxima_grav_y'], s = 1, label=\"Pacients amb valoració < 90\")\n",
    "ax1.set_title(\"Màxim vector gravetat a la prova RGC\")\n",
    "ax1.set_xlim(-0.001,0.25)\n",
    "ax1.set_ylim(-0.001,0.25)\n",
    "plt.legend()\n",
    "\n",
    "\n",
    "plt.show()"
   ]
  },
  {
   "cell_type": "code",
   "execution_count": null,
   "id": "a5b3d063",
   "metadata": {},
   "outputs": [],
   "source": [
    "fig = plt.figure()\n",
    "ax1 = fig.add_subplot(111)\n",
    "\n",
    "ax1.scatter(dades_forca_ROA_bo['Desplacament_maxim_x'], dades_forca_ROA_bo['Desplacament_maxim_y'], s = 1, label=\"Pacients amb valoració >= 90\")\n",
    "ax1.scatter(dades_forca_ROA_mal['Desplacament_maxim_x'], dades_forca_ROA_mal['Desplacament_maxim_y'], s = 1, label=\"Pacients amb valoració < 90\")\n",
    "ax1.set_title(\"Màxim desplaçament a la prova ROA\")\n",
    "plt.legend()\n",
    "\n",
    "\n",
    "plt.show()"
   ]
  },
  {
   "cell_type": "code",
   "execution_count": null,
   "id": "e6420577",
   "metadata": {},
   "outputs": [],
   "source": [
    "fig = plt.figure()\n",
    "ax1 = fig.add_subplot(111)\n",
    "\n",
    "ax1.scatter(dades_forca_ROC_bo['Desplacament_maxim_x'], dades_forca_ROC_bo['Desplacament_maxim_y'], s = 1, label=\"Pacients amb valoració >= 90\")\n",
    "ax1.scatter(dades_forca_ROC_mal['Desplacament_maxim_x'], dades_forca_ROC_mal['Desplacament_maxim_y'], s = 1, label=\"Pacients amb valoració < 90\")\n",
    "ax1.set_title(\"Màxim desplaçament a la prova ROC\")\n",
    "plt.legend()\n",
    "\n",
    "\n",
    "plt.show()"
   ]
  },
  {
   "cell_type": "code",
   "execution_count": null,
   "id": "fba70092",
   "metadata": {},
   "outputs": [],
   "source": [
    "fig = plt.figure()\n",
    "ax1 = fig.add_subplot(111)\n",
    "\n",
    "ax1.scatter(dades_forca_RGA_bo['Desplacament_maxim_x'], dades_forca_RGA_bo['Desplacament_maxim_y'], s = 1, label=\"Pacients amb valoració >= 90\")\n",
    "ax1.scatter(dades_forca_RGA_mal['Desplacament_maxim_x'], dades_forca_RGA_mal['Desplacament_maxim_y'], s = 1, label=\"Pacients amb valoració < 90\")\n",
    "ax1.set_title(\"Màxim desplaçament a la prova RGA\")\n",
    "plt.legend()\n",
    "\n",
    "\n",
    "plt.show()"
   ]
  },
  {
   "cell_type": "code",
   "execution_count": null,
   "id": "89804000",
   "metadata": {},
   "outputs": [],
   "source": [
    "fig = plt.figure()\n",
    "ax1 = fig.add_subplot(111)\n",
    "\n",
    "ax1.scatter(dades_forca_RGC_bo['Desplacament_maxim_x'], dades_forca_RGC_bo['Desplacament_maxim_y'], s = 1, label=\"Pacients amb valoració >= 90\")\n",
    "ax1.scatter(dades_forca_RGC_mal['Desplacament_maxim_x'], dades_forca_RGC_mal['Desplacament_maxim_y'], s = 1, label=\"Pacients amb valoració < 90\")\n",
    "ax1.set_title(\"Màxim desplaçament a la prova RGC\")\n",
    "plt.legend()\n",
    "\n",
    "\n",
    "plt.show()"
   ]
  }
 ],
 "metadata": {
  "kernelspec": {
   "display_name": "Python 3 (ipykernel)",
   "language": "python",
   "name": "python3"
  },
  "language_info": {
   "codemirror_mode": {
    "name": "ipython",
    "version": 3
   },
   "file_extension": ".py",
   "mimetype": "text/x-python",
   "name": "python",
   "nbconvert_exporter": "python",
   "pygments_lexer": "ipython3",
   "version": "3.9.13"
  }
 },
 "nbformat": 4,
 "nbformat_minor": 5
}
